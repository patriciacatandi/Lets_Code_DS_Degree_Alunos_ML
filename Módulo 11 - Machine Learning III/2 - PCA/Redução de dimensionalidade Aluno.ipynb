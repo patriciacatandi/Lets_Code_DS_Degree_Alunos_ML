{
 "cells": [
  {
   "cell_type": "markdown",
   "metadata": {},
   "source": [
    "# Aula - redução de dimensionalidade\n",
    "\n",
    "Na aula de hoje, vamos explorar os seguintes tópicos em Python:\n",
    "\n",
    "- 1) PCA\n",
    "- 2) PCA na Pipeline\n",
    "- 3) Vantagens e Desvantagens\n"
   ]
  },
  {
   "cell_type": "markdown",
   "metadata": {},
   "source": [
    "## Motivação:\n",
    "- Temos muitas features e queremos reduzir a quantidade\n",
    "- Sabemos que que temos features que não são relevantes\n",
    "- Reduzir ruído ao eliminar componentes menos importantes\n",
    "- Reduzir probabilidade de overfiting\n",
    "- Pode melhorar o score do modelo\n",
    "- Acelera o treinamento\n",
    "- Facilita a visualização de dados\n",
    "- Criar features novas baseadas nas existentes\n",
    "\n",
    "<img src=\"images/pre-processing_order.png\" />"
   ]
  },
  {
   "cell_type": "code",
   "execution_count": 1,
   "metadata": {
    "ExecuteTime": {
     "end_time": "2022-03-09T21:48:09.888683Z",
     "start_time": "2022-03-09T21:47:34.719833Z"
    }
   },
   "outputs": [],
   "source": [
    "import numpy  as np\n",
    "import pandas as pd \n",
    "\n",
    "import matplotlib.pyplot as plt\n",
    "import seaborn as sns"
   ]
  },
  {
   "cell_type": "markdown",
   "metadata": {},
   "source": [
    "____\n",
    "_____"
   ]
  },
  {
   "cell_type": "markdown",
   "metadata": {},
   "source": [
    "## 1) PCA\n",
    "\n",
    "**Objetivo:**\n",
    "Queremos criar um novo conjunto de features que seja menor e capaz de resumir e manter as principais propriedades contidas no conjunto original de dados. Para isso, faremos uma transformação que irá converter um conjunto de dados X em um novo conjunto X' por meio de uma combinação linear.\n",
    "\n",
    "### Intuição\n",
    "Suponha que você quer tirar uma foto dos seus amigos que estão nas posições representadas abaixo, qual das três alternativas seria melhor?\n",
    "\n",
    "<img src=\"images/pca_intuition.png\" width=500 text=\"https://www.youtube.com/watch?v=g-Hb26agBFg&t=72s\" />\n",
    "\n",
    "É isso que o PCA faz, ele tira uma \"foto\" dos seus dados de um novo ângulo de forma a manter a maior quantidade de dados.\n",
    "\n",
    "### O que o PCA faz?\n",
    "PCA (principal component analysis) é uma técnica **não supervisionada** que determina **as direções de máxima variância** no espaço de features, de modo que **as direções são ortogonais entre si**.\n",
    "\n",
    "Ou seja,\n",
    "\n",
    "> A primeira componente principal é a direção que maximiza a variáncia dos dados projetados em sua direção; A segunda componente principal é uma direção ortogonal à primeira que também maximiza a variância nesta direção, e assim sucessivamente.\n",
    "\n",
    "<img src=https://austingwalters.com/wp-content/uploads/2014/11/gaussDist-labeled.png width=400>"
   ]
  },
  {
   "cell_type": "markdown",
   "metadata": {},
   "source": [
    "É importante lembrar que:\n",
    "\n",
    "- Se o espaço original tem $n$ features, é possível construir $n$ componentes principais;<br><br>\n",
    "- Cada componente principal é uma **combinação linear das features originais**;<br><br>\n",
    "- As componentes principais são ortogonais entre si;<br><br>\n",
    "- As componentes principais são linearmente descorrelacionadas;<br>"
   ]
  },
  {
   "cell_type": "markdown",
   "metadata": {},
   "source": [
    "É muito comum que PCA seja utilizada como uma técnica de **redução de dimensionalidade**, isto porque, **no espaço transformado de componentes principais**, é comum que grande parte da variância completa dos dados esteja contida nas $L$ primeiras componentes principais ($L < n$).\n",
    "\n",
    "Sendo assim, ao invés de utilizar o espaço de features completo (de dimensão $n$) para a construção de modelos, podemos utilizar apenas $L$ dimensões **do espaço de features de componentes principais**, reduzindo, assim, a dimensionalidade do espaço de features efetivo em que os estimadores irão trabalhar.\n",
    "\n",
    "Os objetivos desta redução podem ser:\n",
    "\n",
    "- Evitar a maldição da dimensionalidade;\n",
    "- Treinar modelos mais rápido (de maneira mais eficiente), afinal, há menos dados;\n",
    "- Fornecer dados sem qualquer colinearidade (há estimadores que assumem não-colinearidade!)"
   ]
  },
  {
   "cell_type": "markdown",
   "metadata": {},
   "source": [
    "### 1.1) Como o PCA faz?\n",
    "\n",
    "O PCA primeiro translada os dados pro eixo (0,0) e depois projeta os nossos pontos em novos eixos e escolhe os que possuem maior variância (chamados de componentes principais). Isso é feito para reduzir a perda de informação que possam impactar na predição do modelo.\n",
    "\n",
    "No gif abaixo estamos projetando nossos dados bidimensionais em uma única dimensão.\n",
    "\n",
    "<img src=https://img-blog.csdnimg.cn/20200216202613847.gif width=500>"
   ]
  },
  {
   "cell_type": "markdown",
   "metadata": {},
   "source": [
    "### O que é cada PC?\n",
    "\n",
    "Como dissemos acima, cada componente principal é uma **combinação linear das features originais**.\n",
    "\n",
    "Nesse sentido, podemos enxergar o PCA como um método que constrói um novo espaço de features, de mesma dimensão que o espaço original:\n",
    "\n",
    "<img src=https://miro.medium.com/max/1200/1*V3JWBvxB92Uo116Bpxa3Tw.png width=700>\n",
    "\n",
    "O ponto é que o espaço de features construído pelo PCA é muito particular: as novas features são ortogonais entre si, e tais que maximizam a variância dos dados em cada sub-espaço de projeção, como dissemos acima.\n",
    "\n",
    "Assim, na prática, seja um espaço de input $\\mathcal{X}$ de $n$ dimensões, tal que cada vetor de features $\\vec{x} \\in \\mathcal{X}$ é dado por:\n",
    "\n",
    "$$ \\vec{x} = \\left ( x_1, x_2, x_3, \\cdots , x_n \\right) $$\n",
    "\n",
    "Após a aplicação do PCA, estaremos no espaço de componentes principais, tal que um vetor de features neste espaço, $\\vec{x}_{PC}$, será dado por:\n",
    "\n",
    "$$ \\vec{x}_{PC} = \\left ( PC_1, PC_2, PC_3, \\cdots , PC_n \\right) $$\n",
    "\n",
    "Onde cada componente principal é uma combinação linear das features originais, isto é, \n",
    "\n",
    "$$ PC_i = \\sum_{k=1}^n \\alpha_{i, k} x_k = \\alpha_{i, 1} x_1 +  \\alpha_{i, 2} x_2 + \\cdots +  \\alpha_{i, n} x_n$$\n",
    "\n",
    "Note que cada componente principal $i$ tem $n$ coeficientes diferentes $\\alpha_{i, k}$, que acompanham cada uma das features $k$ do espaço original.\n",
    "\n",
    "Para entender melhor, vamos tomar um dataset bem simples!"
   ]
  },
  {
   "cell_type": "code",
   "execution_count": 2,
   "metadata": {
    "ExecuteTime": {
     "end_time": "2022-03-09T21:48:10.294631Z",
     "start_time": "2022-03-09T21:48:09.891160Z"
    }
   },
   "outputs": [],
   "source": [
    "from sklearn import datasets\n",
    "from sklearn.model_selection import train_test_split\n",
    "\n",
    "iris = datasets.load_iris(as_frame=True)\n",
    "\n",
    "X = iris.data\n",
    "y = iris.target\n",
    "\n",
    "X_train, X_test, y_train, y_test = train_test_split(X, y, test_size=0.2, \n",
    "                                                    random_state=42, stratify=y)"
   ]
  },
  {
   "cell_type": "code",
   "execution_count": 3,
   "metadata": {},
   "outputs": [
    {
     "data": {
      "text/html": [
       "<div>\n",
       "<style scoped>\n",
       "    .dataframe tbody tr th:only-of-type {\n",
       "        vertical-align: middle;\n",
       "    }\n",
       "\n",
       "    .dataframe tbody tr th {\n",
       "        vertical-align: top;\n",
       "    }\n",
       "\n",
       "    .dataframe thead th {\n",
       "        text-align: right;\n",
       "    }\n",
       "</style>\n",
       "<table border=\"1\" class=\"dataframe\">\n",
       "  <thead>\n",
       "    <tr style=\"text-align: right;\">\n",
       "      <th></th>\n",
       "      <th>sepal length (cm)</th>\n",
       "      <th>sepal width (cm)</th>\n",
       "      <th>petal length (cm)</th>\n",
       "      <th>petal width (cm)</th>\n",
       "    </tr>\n",
       "  </thead>\n",
       "  <tbody>\n",
       "    <tr>\n",
       "      <th>8</th>\n",
       "      <td>4.4</td>\n",
       "      <td>2.9</td>\n",
       "      <td>1.4</td>\n",
       "      <td>0.2</td>\n",
       "    </tr>\n",
       "    <tr>\n",
       "      <th>106</th>\n",
       "      <td>4.9</td>\n",
       "      <td>2.5</td>\n",
       "      <td>4.5</td>\n",
       "      <td>1.7</td>\n",
       "    </tr>\n",
       "    <tr>\n",
       "      <th>76</th>\n",
       "      <td>6.8</td>\n",
       "      <td>2.8</td>\n",
       "      <td>4.8</td>\n",
       "      <td>1.4</td>\n",
       "    </tr>\n",
       "    <tr>\n",
       "      <th>9</th>\n",
       "      <td>4.9</td>\n",
       "      <td>3.1</td>\n",
       "      <td>1.5</td>\n",
       "      <td>0.1</td>\n",
       "    </tr>\n",
       "    <tr>\n",
       "      <th>89</th>\n",
       "      <td>5.5</td>\n",
       "      <td>2.5</td>\n",
       "      <td>4.0</td>\n",
       "      <td>1.3</td>\n",
       "    </tr>\n",
       "  </tbody>\n",
       "</table>\n",
       "</div>"
      ],
      "text/plain": [
       "     sepal length (cm)  sepal width (cm)  petal length (cm)  petal width (cm)\n",
       "8                  4.4               2.9                1.4               0.2\n",
       "106                4.9               2.5                4.5               1.7\n",
       "76                 6.8               2.8                4.8               1.4\n",
       "9                  4.9               3.1                1.5               0.1\n",
       "89                 5.5               2.5                4.0               1.3"
      ]
     },
     "execution_count": 3,
     "metadata": {},
     "output_type": "execute_result"
    }
   ],
   "source": [
    "X_train.head()"
   ]
  },
  {
   "cell_type": "markdown",
   "metadata": {},
   "source": [
    "No caso do dataset iris, temos 4 features, de modo que o espaço original tem 4 dimensões e um vetor de features pode ser descrito por:\n",
    "\n",
    "$ \\vec{x} = (x_1, x_2, x_3, x_4)$.\n",
    "\n",
    "Sendo que:\n",
    "\n",
    "- $x_1$ : 'sepal_length', \n",
    "- $x_2$ : 'sepal_width', \n",
    "- $x_3$ : 'petal_length', \n",
    "- $x_4$ : 'petal_width'."
   ]
  },
  {
   "cell_type": "markdown",
   "metadata": {},
   "source": [
    "Assim, esperamos que após o PCA, o espaço de componentes principais também tenha 4 dimensões, isto é, \n",
    "\n",
    "$ \\vec{x}_{PC} = \\left ( PC_1, PC_2, PC_3, PC_4 \\right) $\n",
    "\n",
    "E as componentes principais serão: \n",
    "\n",
    "$ PC_1 = \\alpha_{1, 1} x_1 + \\alpha_{1, 2} x_2 + \\alpha_{1, 3} x_3 + \\alpha_{1, 4} x_4$\n",
    "\n",
    "$ PC_2 = \\alpha_{2, 1} x_1 + \\alpha_{2, 2} x_2 + \\alpha_{2, 3} x_3 + \\alpha_{2, 4} x_4$\n",
    "\n",
    "$ PC_3 = \\alpha_{3, 1} x_1 + \\alpha_{3, 2} x_2 + \\alpha_{3, 3} x_3 + \\alpha_{3, 4} x_4$\n",
    "\n",
    "$ PC_4 = \\alpha_{4, 1} x_1 + \\alpha_{4, 2} x_2 + \\alpha_{4, 3} x_3 + \\alpha_{4, 4} x_4$"
   ]
  },
  {
   "cell_type": "markdown",
   "metadata": {},
   "source": [
    "Vamos agora aplicar o PCA para calcular as componentes principais!"
   ]
  },
  {
   "cell_type": "markdown",
   "metadata": {},
   "source": [
    "Mas antes, um ponto muito importante: **devemos escalar as features originais com o StandardScaler antes de aplicarmos o PCA**!\n",
    "\n",
    "Isso porque o método matemático recebe dados com média 0 e desvio padrão 1!"
   ]
  },
  {
   "cell_type": "code",
   "execution_count": 4,
   "metadata": {
    "ExecuteTime": {
     "end_time": "2022-03-09T21:48:14.232038Z",
     "start_time": "2022-03-09T21:48:13.998491Z"
    }
   },
   "outputs": [
    {
     "data": {
      "text/html": [
       "<div>\n",
       "<style scoped>\n",
       "    .dataframe tbody tr th:only-of-type {\n",
       "        vertical-align: middle;\n",
       "    }\n",
       "\n",
       "    .dataframe tbody tr th {\n",
       "        vertical-align: top;\n",
       "    }\n",
       "\n",
       "    .dataframe thead th {\n",
       "        text-align: right;\n",
       "    }\n",
       "</style>\n",
       "<table border=\"1\" class=\"dataframe\">\n",
       "  <thead>\n",
       "    <tr style=\"text-align: right;\">\n",
       "      <th></th>\n",
       "      <th>sepal length (cm)</th>\n",
       "      <th>sepal width (cm)</th>\n",
       "      <th>petal length (cm)</th>\n",
       "      <th>petal width (cm)</th>\n",
       "    </tr>\n",
       "  </thead>\n",
       "  <tbody>\n",
       "    <tr>\n",
       "      <th>0</th>\n",
       "      <td>-1.721568</td>\n",
       "      <td>-0.332101</td>\n",
       "      <td>-1.345722</td>\n",
       "      <td>-1.323276</td>\n",
       "    </tr>\n",
       "    <tr>\n",
       "      <th>1</th>\n",
       "      <td>-1.124492</td>\n",
       "      <td>-1.227655</td>\n",
       "      <td>0.414505</td>\n",
       "      <td>0.651763</td>\n",
       "    </tr>\n",
       "    <tr>\n",
       "      <th>2</th>\n",
       "      <td>1.144395</td>\n",
       "      <td>-0.555990</td>\n",
       "      <td>0.584850</td>\n",
       "      <td>0.256755</td>\n",
       "    </tr>\n",
       "    <tr>\n",
       "      <th>3</th>\n",
       "      <td>-1.124492</td>\n",
       "      <td>0.115676</td>\n",
       "      <td>-1.288941</td>\n",
       "      <td>-1.454945</td>\n",
       "    </tr>\n",
       "    <tr>\n",
       "      <th>4</th>\n",
       "      <td>-0.408002</td>\n",
       "      <td>-1.227655</td>\n",
       "      <td>0.130598</td>\n",
       "      <td>0.125086</td>\n",
       "    </tr>\n",
       "  </tbody>\n",
       "</table>\n",
       "</div>"
      ],
      "text/plain": [
       "   sepal length (cm)  sepal width (cm)  petal length (cm)  petal width (cm)\n",
       "0          -1.721568         -0.332101          -1.345722         -1.323276\n",
       "1          -1.124492         -1.227655           0.414505          0.651763\n",
       "2           1.144395         -0.555990           0.584850          0.256755\n",
       "3          -1.124492          0.115676          -1.288941         -1.454945\n",
       "4          -0.408002         -1.227655           0.130598          0.125086"
      ]
     },
     "execution_count": 4,
     "metadata": {},
     "output_type": "execute_result"
    }
   ],
   "source": [
    "# importa StandardScale\n",
    "from sklearn.preprocessing import StandardScaler\n",
    "\n",
    "# instancia e fita o scale\n",
    "sc = StandardScaler()\n",
    "X_sc = sc.fit_transform(X_train)\n",
    "\n",
    "# Cria um df com os dados escalados\n",
    "X_sc = pd.DataFrame(X_sc, columns=X_train.columns)\n",
    "\n",
    "X_sc.head()"
   ]
  },
  {
   "cell_type": "markdown",
   "metadata": {},
   "source": [
    "Agora sim!"
   ]
  },
  {
   "cell_type": "code",
   "execution_count": 20,
   "metadata": {
    "ExecuteTime": {
     "end_time": "2022-03-09T21:48:16.668891Z",
     "start_time": "2022-03-09T21:48:14.237032Z"
    }
   },
   "outputs": [
    {
     "data": {
      "text/plain": [
       "PCA(random_state=42)"
      ]
     },
     "execution_count": 20,
     "metadata": {},
     "output_type": "execute_result"
    }
   ],
   "source": [
    "# importar o decomposition.PCA\n",
    "from sklearn.decomposition import PCA\n",
    "\n",
    "# instancia e fita o PCA\n",
    "pca = PCA(random_state=42)\n",
    "pca.fit(X_sc)"
   ]
  },
  {
   "cell_type": "code",
   "execution_count": 28,
   "metadata": {},
   "outputs": [
    {
     "data": {
      "text/plain": [
       "PCA(n_components=2, random_state=1242)"
      ]
     },
     "execution_count": 28,
     "metadata": {},
     "output_type": "execute_result"
    }
   ],
   "source": [
    "# importar o decomposition.PCA\n",
    "from sklearn.decomposition import PCA\n",
    "\n",
    "# instancia e fita o PCA\n",
    "pca2 = PCA(n_components = 2, random_state=1242)\n",
    "pca2.fit(X_sc)"
   ]
  },
  {
   "cell_type": "markdown",
   "metadata": {},
   "source": [
    "Com o PCA fitado, temos alguns atributos importantes!"
   ]
  },
  {
   "cell_type": "code",
   "execution_count": 21,
   "metadata": {
    "ExecuteTime": {
     "end_time": "2022-03-09T21:48:16.683887Z",
     "start_time": "2022-03-09T21:48:16.671894Z"
    }
   },
   "outputs": [
    {
     "data": {
      "text/plain": [
       "array(['sepal length (cm)', 'sepal width (cm)', 'petal length (cm)',\n",
       "       'petal width (cm)'], dtype=object)"
      ]
     },
     "execution_count": 21,
     "metadata": {},
     "output_type": "execute_result"
    }
   ],
   "source": [
    "# nome das features de entrada\n",
    "pca.feature_names_in_"
   ]
  },
  {
   "cell_type": "code",
   "execution_count": 22,
   "metadata": {
    "ExecuteTime": {
     "end_time": "2022-03-09T21:48:16.997238Z",
     "start_time": "2022-03-09T21:48:16.892318Z"
    }
   },
   "outputs": [
    {
     "data": {
      "text/plain": [
       "4"
      ]
     },
     "execution_count": 22,
     "metadata": {},
     "output_type": "execute_result"
    }
   ],
   "source": [
    "# n_components_: quantidade de componentes\n",
    "pca.n_components_"
   ]
  },
  {
   "cell_type": "code",
   "execution_count": 23,
   "metadata": {
    "ExecuteTime": {
     "end_time": "2022-03-09T21:48:16.889339Z",
     "start_time": "2022-03-09T21:48:16.686885Z"
    }
   },
   "outputs": [
    {
     "data": {
      "text/plain": [
       "array([[ 0.52679335, -0.25307206,  0.58186918,  0.56557189],\n",
       "       [ 0.34813945,  0.93470791,  0.02689438,  0.06630793],\n",
       "       [-0.72745724,  0.22196252,  0.1386138 ,  0.6342908 ],\n",
       "       [ 0.26850263, -0.11405393, -0.80093144,  0.52288323]])"
      ]
     },
     "execution_count": 23,
     "metadata": {},
     "output_type": "execute_result"
    }
   ],
   "source": [
    "# components_: coeficientes da combinação linear\n",
    "pca.components_"
   ]
  },
  {
   "cell_type": "code",
   "execution_count": 29,
   "metadata": {},
   "outputs": [
    {
     "data": {
      "text/plain": [
       "array([[ 0.52679335, -0.25307206,  0.58186918,  0.56557189],\n",
       "       [ 0.34813945,  0.93470791,  0.02689438,  0.06630793]])"
      ]
     },
     "execution_count": 29,
     "metadata": {},
     "output_type": "execute_result"
    }
   ],
   "source": [
    "pca2.components_"
   ]
  },
  {
   "cell_type": "markdown",
   "metadata": {},
   "source": [
    "O atributo `components_` dá exatamente os coeficientes $\\alpha_{i, k}$ que determinam as combinações lineares de cada componente principal!"
   ]
  },
  {
   "cell_type": "code",
   "execution_count": 19,
   "metadata": {
    "ExecuteTime": {
     "end_time": "2022-03-09T21:48:17.107902Z",
     "start_time": "2022-03-09T21:48:16.999160Z"
    }
   },
   "outputs": [
    {
     "name": "stdout",
     "output_type": "stream",
     "text": [
      "PC_1 = 0.527*x_1 + -0.253*x_2 + 0.582*x_3 + 0.566*x_4\n",
      "\n",
      "PC_2 = 0.348*x_1 + 0.935*x_2 + 0.027*x_3 + 0.066*x_4\n",
      "\n",
      "PC_3 = -0.727*x_1 + 0.222*x_2 + 0.139*x_3 + 0.634*x_4\n",
      "\n",
      "PC_4 = 0.269*x_1 + -0.114*x_2 + -0.801*x_3 + 0.523*x_4\n",
      "\n"
     ]
    }
   ],
   "source": [
    "for j in range(pca.n_components_):\n",
    "    string = (f'PC_{j+1} = ' \n",
    "              + \n",
    "              \" + \".join([f\"{alpha:.3f}*x_{i+1}\" for i, alpha in enumerate(pca.components_[j])])\n",
    "              +\n",
    "              \"\\n\")\n",
    "    print(string)"
   ]
  },
  {
   "cell_type": "markdown",
   "metadata": {},
   "source": [
    "Lembrando que:\n",
    "\n",
    "- $x_1$ : 'sepal_length', \n",
    "- $x_2$ : 'sepal_width', \n",
    "- $x_3$ : 'petal_length', \n",
    "- $x_4$ : 'petal_width'."
   ]
  },
  {
   "cell_type": "markdown",
   "metadata": {},
   "source": [
    "Há alguns outros atributos muito importantes:"
   ]
  },
  {
   "cell_type": "code",
   "execution_count": 10,
   "metadata": {
    "ExecuteTime": {
     "end_time": "2022-03-09T22:15:24.307069Z",
     "start_time": "2022-03-09T22:15:24.288084Z"
    }
   },
   "outputs": [
    {
     "data": {
      "text/plain": [
       "array([2.93151868, 0.93042018, 0.15254729, 0.01912729])"
      ]
     },
     "execution_count": 10,
     "metadata": {},
     "output_type": "execute_result"
    }
   ],
   "source": [
    "# Quantidade de variância explicada por cada uma das componentes\n",
    "pca.explained_variance_"
   ]
  },
  {
   "cell_type": "code",
   "execution_count": 11,
   "metadata": {
    "ExecuteTime": {
     "end_time": "2022-03-09T22:20:48.645257Z",
     "start_time": "2022-03-09T22:20:48.628264Z"
    }
   },
   "outputs": [
    {
     "data": {
      "text/plain": [
       "array([0.72677234, 0.23066667, 0.03781901, 0.00474197])"
      ]
     },
     "execution_count": 11,
     "metadata": {},
     "output_type": "execute_result"
    }
   ],
   "source": [
    "# Porcentagem de variância explicada por cada uma das componentes\n",
    "pca.explained_variance_ratio_"
   ]
  },
  {
   "cell_type": "code",
   "execution_count": 12,
   "metadata": {
    "ExecuteTime": {
     "end_time": "2022-03-09T22:21:14.785872Z",
     "start_time": "2022-03-09T22:21:14.770877Z"
    }
   },
   "outputs": [
    {
     "data": {
      "text/plain": [
       "array([0.72677234, 0.95743901, 0.99525803, 1.        ])"
      ]
     },
     "execution_count": 12,
     "metadata": {},
     "output_type": "execute_result"
    }
   ],
   "source": [
    "# Com o método .cumsum() podemos ver a porcentagem de variância explicada de forma cumulativa\n",
    "pca.explained_variance_ratio_.cumsum()"
   ]
  },
  {
   "cell_type": "markdown",
   "metadata": {},
   "source": [
    "Podemos plotar os resultados acima:"
   ]
  },
  {
   "cell_type": "code",
   "execution_count": 15,
   "metadata": {
    "ExecuteTime": {
     "end_time": "2022-03-09T22:38:18.833790Z",
     "start_time": "2022-03-09T22:38:18.601923Z"
    }
   },
   "outputs": [
    {
     "data": {
      "image/png": "[encoded data removed]",
      "text/plain": [
       "<Figure size 640x480 with 1 Axes>"
      ]
     },
     "metadata": {},
     "output_type": "display_data"
    }
   ],
   "source": [
    "# Cria labels para o eixo x\n",
    "labels = [f'PC{i+1}' for i in range(X_train.shape[1])]\n",
    "\n",
    "# Faz um gráfico de barras da explained_variance_ratio_\n",
    "plt.bar(labels, pca.explained_variance_ratio_)\n",
    "plt.show()"
   ]
  },
  {
   "cell_type": "markdown",
   "metadata": {},
   "source": [
    "O gráfico acima é conhecido como Scree plot. Ele mostra o autovalor no eixo y para cada uma das componentes. Também podemos fazer um gráfico mostrando a soma cumulativa das porcentagens de variância explicadas:"
   ]
  },
  {
   "cell_type": "code",
   "execution_count": 16,
   "metadata": {
    "ExecuteTime": {
     "end_time": "2022-03-09T22:38:39.578291Z",
     "start_time": "2022-03-09T22:38:39.314444Z"
    }
   },
   "outputs": [
    {
     "data": {
      "image/png": "[encoded data removed]",
      "text/plain": [
       "<Figure size 640x480 with 1 Axes>"
      ]
     },
     "metadata": {},
     "output_type": "display_data"
    }
   ],
   "source": [
    "# gráfico de barras do pca.explained_variance_ratio_.cumsum()\n",
    "plt.bar(labels, pca.explained_variance_ratio_.cumsum())\n",
    "plt.show()"
   ]
  },
  {
   "cell_type": "markdown",
   "metadata": {},
   "source": [
    "Utilizamos esses dois gráficos para definir quantas componentes principais queremos no nosso modelo."
   ]
  },
  {
   "cell_type": "markdown",
   "metadata": {},
   "source": [
    "### 1.3) Como escolher L (número de dimensões no novo espaço de features)?\n",
    "Se o nosso Scree plot apresentar autovalores (coeficientes de cada componente $PC_i$) com valores similares, como mostrado na figura abaixo, podemos concluir que os nossos dados já estão projetados em um bom espaço e não precisamos transformá-los.\n",
    "\n",
    "<img src=\"images/not_good_pca.png\" text=\"https://www.youtube.com/watch?v=FgakZw6K1QQ\" width=300>\n",
    "\n",
    "No nosso caso, os autovalores de $PC_1$ e $PC_2$ são bem maiores que os demais indicando que eles contém a maior parte da informação sobre a distribuição dos dados. Com apenas essas 2 componentes principais capturamos 95% da variância dos dados!\n",
    "\n",
    "Isso porque autovalores que são próximos de zero contém menos informação e podem ser descartados do novo espaço de features.\n"
   ]
  },
  {
   "cell_type": "markdown",
   "metadata": {},
   "source": [
    "Assim, caso queiramos reduzir o número de dimensões de $n=4$ para $L=2$, temos a garantia de que grande parte da variabilidade estará contida nas duas componentes principais que usaremos para modelagem!\n",
    "\n",
    "> Veja que a escolha de $L < n$ componentes principais pode ser visto como um procedimento de **feature selection**, mas feito **no espaço de componentes principais!**\n",
    "> Como não são as features originais que são selecionadas, é comum nos referirmos a este procedimento como **redução de dimensionalidade** (e a dimensionalidade que é reduzida é do espaço de componentes principais!)\n",
    "\n",
    "De fato, note que **todas as 4 features originais** estão presentes em cada uma das PCs, como termos da combinação linear que define cada PC. E, naturalmente, todas as 4 estão presentes nas $L$ primeiras."
   ]
  },
  {
   "cell_type": "markdown",
   "metadata": {},
   "source": [
    "Caso queiramos construir modelos no espaço de componentes principais, é importante que incorporemos o PCA em nossa pipeline! \n",
    "\n",
    "Vamos ver na prática!"
   ]
  },
  {
   "cell_type": "markdown",
   "metadata": {},
   "source": [
    "____________"
   ]
  },
  {
   "cell_type": "markdown",
   "metadata": {},
   "source": [
    "## 2) PCA na Pipeline"
   ]
  },
  {
   "cell_type": "code",
   "execution_count": 17,
   "metadata": {
    "ExecuteTime": {
     "end_time": "2022-03-09T22:48:22.771588Z",
     "start_time": "2022-03-09T22:48:22.743602Z"
    }
   },
   "outputs": [],
   "source": [
    "from sklearn.metrics import classification_report, ConfusionMatrixDisplay\n",
    "\n",
    "def metricas_classificacao(estimator, X_train, X_test, y_train, y_test):\n",
    "    \n",
    "    # ============================================\n",
    "\n",
    "    print(\"\\nMétricas de avaliação de treino:\")\n",
    "\n",
    "    y_pred_train = estimator.predict(X_train)\n",
    "\n",
    "    ConfusionMatrixDisplay.from_predictions(y_train, y_pred_train)\n",
    "    plt.show()\n",
    "\n",
    "    print(classification_report(y_train, y_pred_train))\n",
    "\n",
    "    # ============================================\n",
    "\n",
    "    print(\"\\nMétricas de avaliação de teste:\")\n",
    "\n",
    "    y_pred_test = estimator.predict(X_test)\n",
    "\n",
    "    ConfusionMatrixDisplay.from_predictions(y_test, y_pred_test)\n",
    "    plt.show()\n",
    "\n",
    "    print(classification_report(y_test, y_pred_test))"
   ]
  },
  {
   "cell_type": "code",
   "execution_count": 18,
   "metadata": {
    "ExecuteTime": {
     "end_time": "2022-03-09T22:49:42.315032Z",
     "start_time": "2022-03-09T22:49:42.306016Z"
    }
   },
   "outputs": [],
   "source": [
    "from sklearn.pipeline import Pipeline\n",
    "from sklearn.linear_model import LogisticRegression"
   ]
  },
  {
   "cell_type": "markdown",
   "metadata": {},
   "source": [
    "Primeiro vamos criar uma pipeline simples só para obter as métricas para o modelo sem PCA:"
   ]
  },
  {
   "cell_type": "code",
   "execution_count": 27,
   "metadata": {
    "ExecuteTime": {
     "end_time": "2022-03-09T22:51:03.149200Z",
     "start_time": "2022-03-09T22:51:02.058273Z"
    },
    "scrolled": true
   },
   "outputs": [
    {
     "name": "stdout",
     "output_type": "stream",
     "text": [
      "\n",
      "Métricas de avaliação de treino:\n"
     ]
    },
    {
     "data": {
      "image/png": "[encoded data removed]",
      "text/plain": [
       "<Figure size 640x480 with 2 Axes>"
      ]
     },
     "metadata": {},
     "output_type": "display_data"
    },
    {
     "name": "stdout",
     "output_type": "stream",
     "text": [
      "              precision    recall  f1-score   support\n",
      "\n",
      "           0       1.00      1.00      1.00        40\n",
      "           1       0.97      0.95      0.96        40\n",
      "           2       0.95      0.97      0.96        40\n",
      "\n",
      "    accuracy                           0.97       120\n",
      "   macro avg       0.98      0.97      0.97       120\n",
      "weighted avg       0.98      0.97      0.97       120\n",
      "\n",
      "\n",
      "Métricas de avaliação de teste:\n"
     ]
    },
    {
     "data": {
      "image/png": "[encoded data removed]",
      "text/plain": [
       "<Figure size 640x480 with 2 Axes>"
      ]
     },
     "metadata": {},
     "output_type": "display_data"
    },
    {
     "name": "stdout",
     "output_type": "stream",
     "text": [
      "              precision    recall  f1-score   support\n",
      "\n",
      "           0       1.00      1.00      1.00        10\n",
      "           1       1.00      0.90      0.95        10\n",
      "           2       0.91      1.00      0.95        10\n",
      "\n",
      "    accuracy                           0.97        30\n",
      "   macro avg       0.97      0.97      0.97        30\n",
      "weighted avg       0.97      0.97      0.97        30\n",
      "\n"
     ]
    }
   ],
   "source": [
    "# pipeline do LogisticRegression\n",
    "pipe = Pipeline([\n",
    "    ('model', LogisticRegression(random_state=42))\n",
    "])\n",
    "\n",
    "# Fit do pipe no treino e teste\n",
    "pipe.fit(X_train, y_train)\n",
    "\n",
    "# printa metricas_classificacao\n",
    "metricas_classificacao(pipe, X_train, X_test, y_train, y_test)\n"
   ]
  },
  {
   "cell_type": "markdown",
   "metadata": {},
   "source": [
    "Agora vamos adicionar na pipeline o StandardScale e o PCA com duas componentes (n_components=2):"
   ]
  },
  {
   "cell_type": "code",
   "execution_count": 30,
   "metadata": {
    "ExecuteTime": {
     "end_time": "2022-03-09T22:55:12.038557Z",
     "start_time": "2022-03-09T22:55:11.391884Z"
    },
    "scrolled": true
   },
   "outputs": [
    {
     "name": "stdout",
     "output_type": "stream",
     "text": [
      "\n",
      "Métricas de avaliação de treino:\n"
     ]
    },
    {
     "data": {
      "image/png": "[encoded data removed]",
      "text/plain": [
       "<Figure size 640x480 with 2 Axes>"
      ]
     },
     "metadata": {},
     "output_type": "display_data"
    },
    {
     "name": "stdout",
     "output_type": "stream",
     "text": [
      "              precision    recall  f1-score   support\n",
      "\n",
      "           0       1.00      1.00      1.00        40\n",
      "           1       0.92      0.88      0.90        40\n",
      "           2       0.88      0.93      0.90        40\n",
      "\n",
      "    accuracy                           0.93       120\n",
      "   macro avg       0.93      0.93      0.93       120\n",
      "weighted avg       0.93      0.93      0.93       120\n",
      "\n",
      "\n",
      "Métricas de avaliação de teste:\n"
     ]
    },
    {
     "data": {
      "image/png": "[encoded data removed]",
      "text/plain": [
       "<Figure size 640x480 with 2 Axes>"
      ]
     },
     "metadata": {},
     "output_type": "display_data"
    },
    {
     "name": "stdout",
     "output_type": "stream",
     "text": [
      "              precision    recall  f1-score   support\n",
      "\n",
      "           0       1.00      1.00      1.00        10\n",
      "           1       0.82      0.90      0.86        10\n",
      "           2       0.89      0.80      0.84        10\n",
      "\n",
      "    accuracy                           0.90        30\n",
      "   macro avg       0.90      0.90      0.90        30\n",
      "weighted avg       0.90      0.90      0.90        30\n",
      "\n"
     ]
    }
   ],
   "source": [
    "pipe_2 = Pipeline([\n",
    "    ('stdsc', StandardScaler()),\n",
    "    ('pca', PCA(n_components=2, random_state = 42)),\n",
    "    ('model', LogisticRegression(random_state = 42))\n",
    "])\n",
    "\n",
    "# fit do pipe\n",
    "pipe_2.fit(X_train, y_train)\n",
    "\n",
    "# printa metricas_classificacao\n",
    "metricas_classificacao(pipe_2, X_train, X_test, y_train, y_test)"
   ]
  },
  {
   "cell_type": "markdown",
   "metadata": {},
   "source": [
    "Em vez de instanciarmos o PCA com duas componentes, queremos que ele retorne a quantidade de componentes que expliquem pelo menos 90% da variância dos nossos dados (n_components=0.9):  "
   ]
  },
  {
   "cell_type": "code",
   "execution_count": 31,
   "metadata": {
    "ExecuteTime": {
     "end_time": "2022-03-09T22:59:46.463399Z",
     "start_time": "2022-03-09T22:59:45.762803Z"
    },
    "scrolled": true
   },
   "outputs": [
    {
     "name": "stdout",
     "output_type": "stream",
     "text": [
      "\n",
      "Métricas de avaliação de treino:\n"
     ]
    },
    {
     "data": {
      "image/png": "[encoded data removed]",
      "text/plain": [
       "<Figure size 640x480 with 2 Axes>"
      ]
     },
     "metadata": {},
     "output_type": "display_data"
    },
    {
     "name": "stdout",
     "output_type": "stream",
     "text": [
      "              precision    recall  f1-score   support\n",
      "\n",
      "           0       1.00      1.00      1.00        40\n",
      "           1       0.92      0.88      0.90        40\n",
      "           2       0.88      0.93      0.90        40\n",
      "\n",
      "    accuracy                           0.93       120\n",
      "   macro avg       0.93      0.93      0.93       120\n",
      "weighted avg       0.93      0.93      0.93       120\n",
      "\n",
      "\n",
      "Métricas de avaliação de teste:\n"
     ]
    },
    {
     "data": {
      "image/png": "[encoded data removed]",
      "text/plain": [
       "<Figure size 640x480 with 2 Axes>"
      ]
     },
     "metadata": {},
     "output_type": "display_data"
    },
    {
     "name": "stdout",
     "output_type": "stream",
     "text": [
      "              precision    recall  f1-score   support\n",
      "\n",
      "           0       1.00      1.00      1.00        10\n",
      "           1       0.82      0.90      0.86        10\n",
      "           2       0.89      0.80      0.84        10\n",
      "\n",
      "    accuracy                           0.90        30\n",
      "   macro avg       0.90      0.90      0.90        30\n",
      "weighted avg       0.90      0.90      0.90        30\n",
      "\n"
     ]
    }
   ],
   "source": [
    "pipe_2 = Pipeline([\n",
    "    ('stdsc', StandardScaler()),\n",
    "    ('pca', PCA(n_components=0.9, random_state = 42)),\n",
    "    ('model', LogisticRegression(random_state = 42))\n",
    "])\n",
    "\n",
    "# fit do pipe\n",
    "pipe_2.fit(X_train, y_train)\n",
    "\n",
    "# printa metricas_classificacao\n",
    "metricas_classificacao(pipe_2, X_train, X_test, y_train, y_test)"
   ]
  },
  {
   "cell_type": "code",
   "execution_count": 33,
   "metadata": {},
   "outputs": [
    {
     "data": {
      "text/plain": [
       "{'memory': None,\n",
       " 'steps': [('model', LogisticRegression(random_state=42))],\n",
       " 'verbose': False,\n",
       " 'model': LogisticRegression(random_state=42),\n",
       " 'model__C': 1.0,\n",
       " 'model__class_weight': None,\n",
       " 'model__dual': False,\n",
       " 'model__fit_intercept': True,\n",
       " 'model__intercept_scaling': 1,\n",
       " 'model__l1_ratio': None,\n",
       " 'model__max_iter': 100,\n",
       " 'model__multi_class': 'auto',\n",
       " 'model__n_jobs': None,\n",
       " 'model__penalty': 'l2',\n",
       " 'model__random_state': 42,\n",
       " 'model__solver': 'lbfgs',\n",
       " 'model__tol': 0.0001,\n",
       " 'model__verbose': 0,\n",
       " 'model__warm_start': False}"
      ]
     },
     "execution_count": 33,
     "metadata": {},
     "output_type": "execute_result"
    }
   ],
   "source": [
    "pipe.get_params()"
   ]
  },
  {
   "cell_type": "code",
   "execution_count": 52,
   "metadata": {},
   "outputs": [
    {
     "data": {
      "text/plain": [
       "2"
      ]
     },
     "execution_count": 52,
     "metadata": {},
     "output_type": "execute_result"
    }
   ],
   "source": [
    "pipe_2['pca'].n_components_"
   ]
  },
  {
   "cell_type": "code",
   "execution_count": 56,
   "metadata": {},
   "outputs": [],
   "source": [
    "oi = pipe_2['pca']"
   ]
  },
  {
   "cell_type": "code",
   "execution_count": 57,
   "metadata": {},
   "outputs": [
    {
     "data": {
      "text/plain": [
       "2"
      ]
     },
     "execution_count": 57,
     "metadata": {},
     "output_type": "execute_result"
    }
   ],
   "source": [
    "oi.n_components_"
   ]
  },
  {
   "cell_type": "code",
   "execution_count": 55,
   "metadata": {},
   "outputs": [
    {
     "data": {
      "text/plain": [
       "2"
      ]
     },
     "execution_count": 55,
     "metadata": {},
     "output_type": "execute_result"
    }
   ],
   "source": [
    "pipe_2.steps[1][-1].n_components_"
   ]
  },
  {
   "cell_type": "markdown",
   "metadata": {},
   "source": [
    "___________\n",
    "\n",
    "Vamos analisar um outro dataset?\n"
   ]
  },
  {
   "cell_type": "markdown",
   "metadata": {},
   "source": [
    "A base [MNIST](https://www.kaggle.com/c/digit-recognizer/data) contém 42 mil imagens (28 x 28 px) de dígitos manuscritos que vão de 0 a 9. Para cada imagem estão associados $28^2 = 784$ pixels que podem ser representados por uma matriz de features $$X(42.000, 784)$$\n",
    "\n",
    "Cada pixel será representado como uma feature distinta e terá o valor 255 se o pixel for preto, 0 se branco e valores intermediários correspondendo aos tons de cinza.\n",
    "\n",
    "Nosso target, $Y(42.000, )$ é um vetor cujas componentes são inteiros de 0 a 9 que representam os dígitos.\n"
   ]
  },
  {
   "cell_type": "code",
   "execution_count": 59,
   "metadata": {},
   "outputs": [],
   "source": [
    "import random, itertools\n",
    "random.seed(42)"
   ]
  },
  {
   "cell_type": "code",
   "execution_count": 60,
   "metadata": {},
   "outputs": [],
   "source": [
    "train = pd.read_csv('../data/mnist_train.csv')\n",
    "\n",
    "y = train['label']\n",
    "X = train.drop(\"label\",axis=1)\n",
    "\n",
    "X_train, X_test, y_train, y_test = train_test_split(X, y, test_size=0.2)"
   ]
  },
  {
   "cell_type": "code",
   "execution_count": 61,
   "metadata": {},
   "outputs": [
    {
     "data": {
      "text/html": [
       "<div>\n",
       "<style scoped>\n",
       "    .dataframe tbody tr th:only-of-type {\n",
       "        vertical-align: middle;\n",
       "    }\n",
       "\n",
       "    .dataframe tbody tr th {\n",
       "        vertical-align: top;\n",
       "    }\n",
       "\n",
       "    .dataframe thead th {\n",
       "        text-align: right;\n",
       "    }\n",
       "</style>\n",
       "<table border=\"1\" class=\"dataframe\">\n",
       "  <thead>\n",
       "    <tr style=\"text-align: right;\">\n",
       "      <th></th>\n",
       "      <th>pixel0</th>\n",
       "      <th>pixel1</th>\n",
       "      <th>pixel2</th>\n",
       "      <th>pixel3</th>\n",
       "      <th>pixel4</th>\n",
       "      <th>pixel5</th>\n",
       "      <th>pixel6</th>\n",
       "      <th>pixel7</th>\n",
       "      <th>pixel8</th>\n",
       "      <th>pixel9</th>\n",
       "      <th>...</th>\n",
       "      <th>pixel774</th>\n",
       "      <th>pixel775</th>\n",
       "      <th>pixel776</th>\n",
       "      <th>pixel777</th>\n",
       "      <th>pixel778</th>\n",
       "      <th>pixel779</th>\n",
       "      <th>pixel780</th>\n",
       "      <th>pixel781</th>\n",
       "      <th>pixel782</th>\n",
       "      <th>pixel783</th>\n",
       "    </tr>\n",
       "  </thead>\n",
       "  <tbody>\n",
       "    <tr>\n",
       "      <th>30444</th>\n",
       "      <td>0</td>\n",
       "      <td>0</td>\n",
       "      <td>0</td>\n",
       "      <td>0</td>\n",
       "      <td>0</td>\n",
       "      <td>0</td>\n",
       "      <td>0</td>\n",
       "      <td>0</td>\n",
       "      <td>0</td>\n",
       "      <td>0</td>\n",
       "      <td>...</td>\n",
       "      <td>0</td>\n",
       "      <td>0</td>\n",
       "      <td>0</td>\n",
       "      <td>0</td>\n",
       "      <td>0</td>\n",
       "      <td>0</td>\n",
       "      <td>0</td>\n",
       "      <td>0</td>\n",
       "      <td>0</td>\n",
       "      <td>0</td>\n",
       "    </tr>\n",
       "    <tr>\n",
       "      <th>20563</th>\n",
       "      <td>0</td>\n",
       "      <td>0</td>\n",
       "      <td>0</td>\n",
       "      <td>0</td>\n",
       "      <td>0</td>\n",
       "      <td>0</td>\n",
       "      <td>0</td>\n",
       "      <td>0</td>\n",
       "      <td>0</td>\n",
       "      <td>0</td>\n",
       "      <td>...</td>\n",
       "      <td>0</td>\n",
       "      <td>0</td>\n",
       "      <td>0</td>\n",
       "      <td>0</td>\n",
       "      <td>0</td>\n",
       "      <td>0</td>\n",
       "      <td>0</td>\n",
       "      <td>0</td>\n",
       "      <td>0</td>\n",
       "      <td>0</td>\n",
       "    </tr>\n",
       "    <tr>\n",
       "      <th>5726</th>\n",
       "      <td>0</td>\n",
       "      <td>0</td>\n",
       "      <td>0</td>\n",
       "      <td>0</td>\n",
       "      <td>0</td>\n",
       "      <td>0</td>\n",
       "      <td>0</td>\n",
       "      <td>0</td>\n",
       "      <td>0</td>\n",
       "      <td>0</td>\n",
       "      <td>...</td>\n",
       "      <td>0</td>\n",
       "      <td>0</td>\n",
       "      <td>0</td>\n",
       "      <td>0</td>\n",
       "      <td>0</td>\n",
       "      <td>0</td>\n",
       "      <td>0</td>\n",
       "      <td>0</td>\n",
       "      <td>0</td>\n",
       "      <td>0</td>\n",
       "    </tr>\n",
       "    <tr>\n",
       "      <th>22312</th>\n",
       "      <td>0</td>\n",
       "      <td>0</td>\n",
       "      <td>0</td>\n",
       "      <td>0</td>\n",
       "      <td>0</td>\n",
       "      <td>0</td>\n",
       "      <td>0</td>\n",
       "      <td>0</td>\n",
       "      <td>0</td>\n",
       "      <td>0</td>\n",
       "      <td>...</td>\n",
       "      <td>0</td>\n",
       "      <td>0</td>\n",
       "      <td>0</td>\n",
       "      <td>0</td>\n",
       "      <td>0</td>\n",
       "      <td>0</td>\n",
       "      <td>0</td>\n",
       "      <td>0</td>\n",
       "      <td>0</td>\n",
       "      <td>0</td>\n",
       "    </tr>\n",
       "    <tr>\n",
       "      <th>3677</th>\n",
       "      <td>0</td>\n",
       "      <td>0</td>\n",
       "      <td>0</td>\n",
       "      <td>0</td>\n",
       "      <td>0</td>\n",
       "      <td>0</td>\n",
       "      <td>0</td>\n",
       "      <td>0</td>\n",
       "      <td>0</td>\n",
       "      <td>0</td>\n",
       "      <td>...</td>\n",
       "      <td>0</td>\n",
       "      <td>0</td>\n",
       "      <td>0</td>\n",
       "      <td>0</td>\n",
       "      <td>0</td>\n",
       "      <td>0</td>\n",
       "      <td>0</td>\n",
       "      <td>0</td>\n",
       "      <td>0</td>\n",
       "      <td>0</td>\n",
       "    </tr>\n",
       "  </tbody>\n",
       "</table>\n",
       "<p>5 rows × 784 columns</p>\n",
       "</div>"
      ],
      "text/plain": [
       "       pixel0  pixel1  pixel2  pixel3  pixel4  pixel5  pixel6  pixel7  pixel8  \\\n",
       "30444       0       0       0       0       0       0       0       0       0   \n",
       "20563       0       0       0       0       0       0       0       0       0   \n",
       "5726        0       0       0       0       0       0       0       0       0   \n",
       "22312       0       0       0       0       0       0       0       0       0   \n",
       "3677        0       0       0       0       0       0       0       0       0   \n",
       "\n",
       "       pixel9  ...  pixel774  pixel775  pixel776  pixel777  pixel778  \\\n",
       "30444       0  ...         0         0         0         0         0   \n",
       "20563       0  ...         0         0         0         0         0   \n",
       "5726        0  ...         0         0         0         0         0   \n",
       "22312       0  ...         0         0         0         0         0   \n",
       "3677        0  ...         0         0         0         0         0   \n",
       "\n",
       "       pixel779  pixel780  pixel781  pixel782  pixel783  \n",
       "30444         0         0         0         0         0  \n",
       "20563         0         0         0         0         0  \n",
       "5726          0         0         0         0         0  \n",
       "22312         0         0         0         0         0  \n",
       "3677          0         0         0         0         0  \n",
       "\n",
       "[5 rows x 784 columns]"
      ]
     },
     "execution_count": 61,
     "metadata": {},
     "output_type": "execute_result"
    }
   ],
   "source": [
    "X_train.head()"
   ]
  },
  {
   "cell_type": "code",
   "execution_count": 62,
   "metadata": {},
   "outputs": [
    {
     "data": {
      "text/plain": [
       "30444    8\n",
       "20563    9\n",
       "5726     9\n",
       "22312    1\n",
       "3677     9\n",
       "        ..\n",
       "20648    5\n",
       "41285    6\n",
       "39202    0\n",
       "24750    0\n",
       "28581    3\n",
       "Name: label, Length: 33600, dtype: int64"
      ]
     },
     "execution_count": 62,
     "metadata": {},
     "output_type": "execute_result"
    }
   ],
   "source": [
    "y_train"
   ]
  },
  {
   "cell_type": "code",
   "execution_count": 63,
   "metadata": {},
   "outputs": [
    {
     "data": {
      "text/html": [
       "<div>\n",
       "<style scoped>\n",
       "    .dataframe tbody tr th:only-of-type {\n",
       "        vertical-align: middle;\n",
       "    }\n",
       "\n",
       "    .dataframe tbody tr th {\n",
       "        vertical-align: top;\n",
       "    }\n",
       "\n",
       "    .dataframe thead th {\n",
       "        text-align: right;\n",
       "    }\n",
       "</style>\n",
       "<table border=\"1\" class=\"dataframe\">\n",
       "  <thead>\n",
       "    <tr style=\"text-align: right;\">\n",
       "      <th></th>\n",
       "      <th>pixel0</th>\n",
       "      <th>pixel1</th>\n",
       "      <th>pixel2</th>\n",
       "      <th>pixel3</th>\n",
       "      <th>pixel4</th>\n",
       "      <th>pixel5</th>\n",
       "      <th>pixel6</th>\n",
       "      <th>pixel7</th>\n",
       "      <th>pixel8</th>\n",
       "      <th>pixel9</th>\n",
       "      <th>...</th>\n",
       "      <th>pixel774</th>\n",
       "      <th>pixel775</th>\n",
       "      <th>pixel776</th>\n",
       "      <th>pixel777</th>\n",
       "      <th>pixel778</th>\n",
       "      <th>pixel779</th>\n",
       "      <th>pixel780</th>\n",
       "      <th>pixel781</th>\n",
       "      <th>pixel782</th>\n",
       "      <th>pixel783</th>\n",
       "    </tr>\n",
       "  </thead>\n",
       "  <tbody>\n",
       "    <tr>\n",
       "      <th>count</th>\n",
       "      <td>33600.0</td>\n",
       "      <td>33600.0</td>\n",
       "      <td>33600.0</td>\n",
       "      <td>33600.0</td>\n",
       "      <td>33600.0</td>\n",
       "      <td>33600.0</td>\n",
       "      <td>33600.0</td>\n",
       "      <td>33600.0</td>\n",
       "      <td>33600.0</td>\n",
       "      <td>33600.0</td>\n",
       "      <td>...</td>\n",
       "      <td>33600.000000</td>\n",
       "      <td>33600.000000</td>\n",
       "      <td>33600.000000</td>\n",
       "      <td>33600.000000</td>\n",
       "      <td>33600.000000</td>\n",
       "      <td>33600.000000</td>\n",
       "      <td>33600.0</td>\n",
       "      <td>33600.0</td>\n",
       "      <td>33600.0</td>\n",
       "      <td>33600.0</td>\n",
       "    </tr>\n",
       "    <tr>\n",
       "      <th>mean</th>\n",
       "      <td>0.0</td>\n",
       "      <td>0.0</td>\n",
       "      <td>0.0</td>\n",
       "      <td>0.0</td>\n",
       "      <td>0.0</td>\n",
       "      <td>0.0</td>\n",
       "      <td>0.0</td>\n",
       "      <td>0.0</td>\n",
       "      <td>0.0</td>\n",
       "      <td>0.0</td>\n",
       "      <td>...</td>\n",
       "      <td>0.189851</td>\n",
       "      <td>0.097054</td>\n",
       "      <td>0.032649</td>\n",
       "      <td>0.016429</td>\n",
       "      <td>0.016964</td>\n",
       "      <td>0.003571</td>\n",
       "      <td>0.0</td>\n",
       "      <td>0.0</td>\n",
       "      <td>0.0</td>\n",
       "      <td>0.0</td>\n",
       "    </tr>\n",
       "    <tr>\n",
       "      <th>std</th>\n",
       "      <td>0.0</td>\n",
       "      <td>0.0</td>\n",
       "      <td>0.0</td>\n",
       "      <td>0.0</td>\n",
       "      <td>0.0</td>\n",
       "      <td>0.0</td>\n",
       "      <td>0.0</td>\n",
       "      <td>0.0</td>\n",
       "      <td>0.0</td>\n",
       "      <td>0.0</td>\n",
       "      <td>...</td>\n",
       "      <td>5.815465</td>\n",
       "      <td>4.074927</td>\n",
       "      <td>2.412079</td>\n",
       "      <td>1.754433</td>\n",
       "      <td>1.944391</td>\n",
       "      <td>0.463160</td>\n",
       "      <td>0.0</td>\n",
       "      <td>0.0</td>\n",
       "      <td>0.0</td>\n",
       "      <td>0.0</td>\n",
       "    </tr>\n",
       "    <tr>\n",
       "      <th>min</th>\n",
       "      <td>0.0</td>\n",
       "      <td>0.0</td>\n",
       "      <td>0.0</td>\n",
       "      <td>0.0</td>\n",
       "      <td>0.0</td>\n",
       "      <td>0.0</td>\n",
       "      <td>0.0</td>\n",
       "      <td>0.0</td>\n",
       "      <td>0.0</td>\n",
       "      <td>0.0</td>\n",
       "      <td>...</td>\n",
       "      <td>0.000000</td>\n",
       "      <td>0.000000</td>\n",
       "      <td>0.000000</td>\n",
       "      <td>0.000000</td>\n",
       "      <td>0.000000</td>\n",
       "      <td>0.000000</td>\n",
       "      <td>0.0</td>\n",
       "      <td>0.0</td>\n",
       "      <td>0.0</td>\n",
       "      <td>0.0</td>\n",
       "    </tr>\n",
       "    <tr>\n",
       "      <th>25%</th>\n",
       "      <td>0.0</td>\n",
       "      <td>0.0</td>\n",
       "      <td>0.0</td>\n",
       "      <td>0.0</td>\n",
       "      <td>0.0</td>\n",
       "      <td>0.0</td>\n",
       "      <td>0.0</td>\n",
       "      <td>0.0</td>\n",
       "      <td>0.0</td>\n",
       "      <td>0.0</td>\n",
       "      <td>...</td>\n",
       "      <td>0.000000</td>\n",
       "      <td>0.000000</td>\n",
       "      <td>0.000000</td>\n",
       "      <td>0.000000</td>\n",
       "      <td>0.000000</td>\n",
       "      <td>0.000000</td>\n",
       "      <td>0.0</td>\n",
       "      <td>0.0</td>\n",
       "      <td>0.0</td>\n",
       "      <td>0.0</td>\n",
       "    </tr>\n",
       "    <tr>\n",
       "      <th>50%</th>\n",
       "      <td>0.0</td>\n",
       "      <td>0.0</td>\n",
       "      <td>0.0</td>\n",
       "      <td>0.0</td>\n",
       "      <td>0.0</td>\n",
       "      <td>0.0</td>\n",
       "      <td>0.0</td>\n",
       "      <td>0.0</td>\n",
       "      <td>0.0</td>\n",
       "      <td>0.0</td>\n",
       "      <td>...</td>\n",
       "      <td>0.000000</td>\n",
       "      <td>0.000000</td>\n",
       "      <td>0.000000</td>\n",
       "      <td>0.000000</td>\n",
       "      <td>0.000000</td>\n",
       "      <td>0.000000</td>\n",
       "      <td>0.0</td>\n",
       "      <td>0.0</td>\n",
       "      <td>0.0</td>\n",
       "      <td>0.0</td>\n",
       "    </tr>\n",
       "    <tr>\n",
       "      <th>75%</th>\n",
       "      <td>0.0</td>\n",
       "      <td>0.0</td>\n",
       "      <td>0.0</td>\n",
       "      <td>0.0</td>\n",
       "      <td>0.0</td>\n",
       "      <td>0.0</td>\n",
       "      <td>0.0</td>\n",
       "      <td>0.0</td>\n",
       "      <td>0.0</td>\n",
       "      <td>0.0</td>\n",
       "      <td>...</td>\n",
       "      <td>0.000000</td>\n",
       "      <td>0.000000</td>\n",
       "      <td>0.000000</td>\n",
       "      <td>0.000000</td>\n",
       "      <td>0.000000</td>\n",
       "      <td>0.000000</td>\n",
       "      <td>0.0</td>\n",
       "      <td>0.0</td>\n",
       "      <td>0.0</td>\n",
       "      <td>0.0</td>\n",
       "    </tr>\n",
       "    <tr>\n",
       "      <th>max</th>\n",
       "      <td>0.0</td>\n",
       "      <td>0.0</td>\n",
       "      <td>0.0</td>\n",
       "      <td>0.0</td>\n",
       "      <td>0.0</td>\n",
       "      <td>0.0</td>\n",
       "      <td>0.0</td>\n",
       "      <td>0.0</td>\n",
       "      <td>0.0</td>\n",
       "      <td>0.0</td>\n",
       "      <td>...</td>\n",
       "      <td>254.000000</td>\n",
       "      <td>254.000000</td>\n",
       "      <td>252.000000</td>\n",
       "      <td>253.000000</td>\n",
       "      <td>254.000000</td>\n",
       "      <td>62.000000</td>\n",
       "      <td>0.0</td>\n",
       "      <td>0.0</td>\n",
       "      <td>0.0</td>\n",
       "      <td>0.0</td>\n",
       "    </tr>\n",
       "  </tbody>\n",
       "</table>\n",
       "<p>8 rows × 784 columns</p>\n",
       "</div>"
      ],
      "text/plain": [
       "        pixel0   pixel1   pixel2   pixel3   pixel4   pixel5   pixel6   pixel7  \\\n",
       "count  33600.0  33600.0  33600.0  33600.0  33600.0  33600.0  33600.0  33600.0   \n",
       "mean       0.0      0.0      0.0      0.0      0.0      0.0      0.0      0.0   \n",
       "std        0.0      0.0      0.0      0.0      0.0      0.0      0.0      0.0   \n",
       "min        0.0      0.0      0.0      0.0      0.0      0.0      0.0      0.0   \n",
       "25%        0.0      0.0      0.0      0.0      0.0      0.0      0.0      0.0   \n",
       "50%        0.0      0.0      0.0      0.0      0.0      0.0      0.0      0.0   \n",
       "75%        0.0      0.0      0.0      0.0      0.0      0.0      0.0      0.0   \n",
       "max        0.0      0.0      0.0      0.0      0.0      0.0      0.0      0.0   \n",
       "\n",
       "        pixel8   pixel9  ...      pixel774      pixel775      pixel776  \\\n",
       "count  33600.0  33600.0  ...  33600.000000  33600.000000  33600.000000   \n",
       "mean       0.0      0.0  ...      0.189851      0.097054      0.032649   \n",
       "std        0.0      0.0  ...      5.815465      4.074927      2.412079   \n",
       "min        0.0      0.0  ...      0.000000      0.000000      0.000000   \n",
       "25%        0.0      0.0  ...      0.000000      0.000000      0.000000   \n",
       "50%        0.0      0.0  ...      0.000000      0.000000      0.000000   \n",
       "75%        0.0      0.0  ...      0.000000      0.000000      0.000000   \n",
       "max        0.0      0.0  ...    254.000000    254.000000    252.000000   \n",
       "\n",
       "           pixel777      pixel778      pixel779  pixel780  pixel781  pixel782  \\\n",
       "count  33600.000000  33600.000000  33600.000000   33600.0   33600.0   33600.0   \n",
       "mean       0.016429      0.016964      0.003571       0.0       0.0       0.0   \n",
       "std        1.754433      1.944391      0.463160       0.0       0.0       0.0   \n",
       "min        0.000000      0.000000      0.000000       0.0       0.0       0.0   \n",
       "25%        0.000000      0.000000      0.000000       0.0       0.0       0.0   \n",
       "50%        0.000000      0.000000      0.000000       0.0       0.0       0.0   \n",
       "75%        0.000000      0.000000      0.000000       0.0       0.0       0.0   \n",
       "max      253.000000    254.000000     62.000000       0.0       0.0       0.0   \n",
       "\n",
       "       pixel783  \n",
       "count   33600.0  \n",
       "mean        0.0  \n",
       "std         0.0  \n",
       "min         0.0  \n",
       "25%         0.0  \n",
       "50%         0.0  \n",
       "75%         0.0  \n",
       "max         0.0  \n",
       "\n",
       "[8 rows x 784 columns]"
      ]
     },
     "execution_count": 63,
     "metadata": {},
     "output_type": "execute_result"
    }
   ],
   "source": [
    "X_train.describe()"
   ]
  },
  {
   "cell_type": "markdown",
   "metadata": {},
   "source": [
    "#### Redução de dimensionalidade - PCA\n",
    "Vamos olhar nesse momento todas as componentes para tentar determinar qual o melhor valor para o novo espaço dimensional (L)."
   ]
  },
  {
   "cell_type": "code",
   "execution_count": 76,
   "metadata": {},
   "outputs": [],
   "source": [
    "# Instancia o PCA e o scaler\n",
    "pca = PCA()\n",
    "scaler = StandardScaler()\n",
    "\n",
    "# Aplica o scaler\n",
    "X_sc = scaler.fit_transform(X_train)\n",
    "\n",
    "# Fita o pca\n",
    "pca.fit(X_sc)\n",
    "\n",
    "# Constrói o acumulado de aumento da variância em %\n",
    "accumulated_sum = pca.explained_variance_ratio_.cumsum()*100\n"
   ]
  },
  {
   "cell_type": "code",
   "execution_count": 77,
   "metadata": {},
   "outputs": [
    {
     "data": {
      "image/png": "[encoded data removed]",
      "text/plain": [
       "<Figure size 800x400 with 1 Axes>"
      ]
     },
     "metadata": {},
     "output_type": "display_data"
    },
    {
     "data": {
      "image/png": "[encoded data removed]",
      "text/plain": [
       "<Figure size 800x400 with 1 Axes>"
      ]
     },
     "metadata": {},
     "output_type": "display_data"
    }
   ],
   "source": [
    "import matplotlib.ticker as ticker\n",
    "\n",
    "# Cria labels para o eixo x\n",
    "labels = [f\"PC_{i+1}\" for i in range(pca.n_components_)]\n",
    "\n",
    "# Define um threshold para a variância explicada\n",
    "threshold=70\n",
    "\n",
    "# Calcula quantas features são necessárias para obter esse threshold\n",
    "number_of_features = list(accumulated_sum >= threshold).index(True)\n",
    "\n",
    "# Cria espaço da figura\n",
    "fig, ax = plt.subplots(1, 1, figsize=(8, 4))\n",
    "\n",
    "# Plota a soma acumulada\n",
    "ax.plot(labels, accumulated_sum)\n",
    "\n",
    "# Plota linha horizontal com o threshold da variância\n",
    "ax.axhline(y=threshold, color=\"black\", linestyle=\"--\", linewidth=1)\n",
    "\n",
    "# Plota linha vertical com a quantidade de features necessárias para esse threshold\n",
    "ax.axvline(x=number_of_features, color=\"black\", linestyle=\"--\", linewidth=1)\n",
    "\n",
    "# Seta tickers pro x\n",
    "xticks_index = np.arange(0, X.shape[0+1], 100)\n",
    "ax.xaxis.set_major_locator(ticker.FixedLocator(xticks_index))\n",
    "\n",
    "# Seta título e texto dos eixos\n",
    "ax.set_title(f\"Número de features necessárias para {threshold}% da variância explicada: {number_of_features}\")\n",
    "ax.set_xlabel(\"Variáveis independentes\"), plt.ylabel(\"Percentual da variância explicada\")\n",
    "plt.show()\n"
   ]
  },
  {
   "cell_type": "code",
   "execution_count": 78,
   "metadata": {},
   "outputs": [],
   "source": [
    "# instancia o PCA com n_components igual ao número de features escolhido\n",
    "pca = PCA(n_components=number_of_features)\n",
    "\n",
    "# Cria um novo dataframe X_pca com os dados de treino no novo espaço de componentes\n",
    "X_pca = pca.fit_transform(X_sc)\n"
   ]
  },
  {
   "cell_type": "markdown",
   "metadata": {},
   "source": [
    "Vamos observar o efeito da reconstrução de uma imagem com as componentes principais e compará-lo com sua versão original:"
   ]
  },
  {
   "cell_type": "code",
   "execution_count": 79,
   "metadata": {},
   "outputs": [
    {
     "data": {
      "image/png": "[encoded data removed]",
      "text/plain": [
       "<Figure size 1600x400 with 20 Axes>"
      ]
     },
     "metadata": {},
     "output_type": "display_data"
    }
   ],
   "source": [
    "# Converte X_train e y_train em arrays\n",
    "X_array = np.array(X_sc)\n",
    "y_array = np.array(y_train)\n",
    "\n",
    "# Cria área da figura\n",
    "fig, ax = plt.subplots(2, 10, sharex=True, sharey=True, figsize=(16, 4))\n",
    "\n",
    "# Remove os valores dos eixos\n",
    "[i.set_axis_off() for i in fig.axes]\n",
    "\n",
    "# Escreve texto acima da imagem\n",
    "plt.text(0, 1.2, \"Base original\", \n",
    "         fontdict=None, transform=ax[0, 0].transAxes)\n",
    "\n",
    "# Plota imagens originais\n",
    "[ax[0, j].imshow(X_array[n].reshape(28, 28), \n",
    "     ) for j, n in enumerate([list(y_array == k).index(True) for k in range(10)])]\n",
    "\n",
    "# Escreve texto acima da imagem\n",
    "plt.text(0, 1.2, f\"Reconstrução após redução por PCA com {number_of_features} componentes principais\", \n",
    "         fontdict=None, transform=ax[1, 0].transAxes)\n",
    "\n",
    "# Plota imagens geradas a partir das componentes principais\n",
    "[ax[1, j].imshow(\n",
    "     pca.inverse_transform(X_pca[n]).reshape(28, 28)) for j, n in enumerate([list(y_array == k).index(True) for k in range(10)])]\n",
    "\n",
    "plt.show()    "
   ]
  },
  {
   "cell_type": "markdown",
   "metadata": {},
   "source": [
    "Podemos perceber que houve uma redução na nitidez dos dígitos, mas ainda é possível reconher quais são os valores manuscritos em cada imagem."
   ]
  },
  {
   "cell_type": "markdown",
   "metadata": {},
   "source": [
    "Agora que sabemos quantas features são necessárias para explicar 90% da variância dos nossos dados vamos criar um pipeline para extrair essas features e treinar um modelo."
   ]
  },
  {
   "cell_type": "code",
   "execution_count": 81,
   "metadata": {},
   "outputs": [
    {
     "name": "stdout",
     "output_type": "stream",
     "text": [
      "\n",
      "Métricas de avaliação de treino:\n"
     ]
    },
    {
     "data": {
      "image/png": "[encoded data removed]",
      "text/plain": [
       "<Figure size 640x480 with 2 Axes>"
      ]
     },
     "metadata": {},
     "output_type": "display_data"
    },
    {
     "name": "stdout",
     "output_type": "stream",
     "text": [
      "              precision    recall  f1-score   support\n",
      "\n",
      "           0       1.00      1.00      1.00      3289\n",
      "           1       1.00      1.00      1.00      3754\n",
      "           2       1.00      1.00      1.00      3322\n",
      "           3       1.00      1.00      1.00      3457\n",
      "           4       1.00      1.00      1.00      3247\n",
      "           5       1.00      1.00      1.00      3076\n",
      "           6       1.00      1.00      1.00      3359\n",
      "           7       1.00      1.00      1.00      3519\n",
      "           8       1.00      1.00      1.00      3236\n",
      "           9       1.00      1.00      1.00      3341\n",
      "\n",
      "    accuracy                           1.00     33600\n",
      "   macro avg       1.00      1.00      1.00     33600\n",
      "weighted avg       1.00      1.00      1.00     33600\n",
      "\n",
      "\n",
      "Métricas de avaliação de teste:\n"
     ]
    },
    {
     "data": {
      "image/png": "[encoded data removed]",
      "text/plain": [
       "<Figure size 640x480 with 2 Axes>"
      ]
     },
     "metadata": {},
     "output_type": "display_data"
    },
    {
     "name": "stdout",
     "output_type": "stream",
     "text": [
      "              precision    recall  f1-score   support\n",
      "\n",
      "           0       0.97      0.97      0.97       843\n",
      "           1       0.98      0.97      0.97       930\n",
      "           2       0.92      0.94      0.93       855\n",
      "           3       0.89      0.93      0.91       894\n",
      "           4       0.94      0.95      0.94       825\n",
      "           5       0.92      0.89      0.90       719\n",
      "           6       0.95      0.97      0.96       778\n",
      "           7       0.94      0.93      0.94       882\n",
      "           8       0.92      0.89      0.91       827\n",
      "           9       0.91      0.90      0.91       847\n",
      "\n",
      "    accuracy                           0.93      8400\n",
      "   macro avg       0.93      0.93      0.93      8400\n",
      "weighted avg       0.93      0.93      0.93      8400\n",
      "\n"
     ]
    }
   ],
   "source": [
    "from sklearn.ensemble import RandomForestClassifier\n",
    "\n",
    "# Cria pipeline de processamento dos dados com StandardScale e PCA\n",
    "preprocessing = Pipeline([\n",
    "    ('scaler', StandardScaler()),\n",
    "    ('pca', PCA(n_components=222))\n",
    "])\n",
    "\n",
    "pipe = Pipeline([\n",
    "    ('preprocessing', preprocessing),\n",
    "    ('model', RandomForestClassifier(random_state=42))\n",
    "])\n",
    "# Faz o fit do pipeline no X e y\n",
    "pipe.fit(X_train, y_train)\n",
    "\n",
    "# Printa as métricas de classificação\n",
    "metricas_classificacao(pipe, X_train, X_test, y_train, y_test)"
   ]
  },
  {
   "cell_type": "markdown",
   "metadata": {},
   "source": [
    "____________\n",
    "## Prós e Contras\n",
    "#### Prós:\n",
    "- Remove features correlacionadas: como todas as componentes principais são independentes entre si não temos mais correlação entre as features nesse novo espaço.\n",
    "- Diminui o tempo de treino\n",
    "- Pode melhorar a performance do algorítimo\n",
    "- Reduz overfiting (mas não é o melhor método, sempre dê preferência para alguma regularização)\n",
    "\n",
    "#### Contras:\n",
    "- Fica mais difícil interpretar o modelo já que agora suas features são combinações lineares das features originais\n",
    "- É obrigatório termos os dados na mesma escala (mean = 0 e standard deviation = 1)\n",
    "- Perda de informação\n",
    "- Não é recomendado utilizar com dados categóricos\n",
    "- Nessa classe que utilizamos o dataset inteiro precisa caber na RAM ([Incremental PCA](https://scikit-learn.org/stable/modules/generated/sklearn.decomposition.IncrementalPCA.html#sklearn.decomposition.IncrementalPCA))\n",
    "- Consegue detetar apenas relações lineares  ([Kernel PCA](https://scikit-learn.org/stable/modules/decomposition.html#kernel-principal-component-analysis-kpca))\n",
    "- Não leva em consideração o target na hora de criar as componentes principais (LDA)\n",
    "- Se os dados não seguem uma gaussiana multidimensional, o PCA pode não resultar nas melhores componentes.\n",
    "<img src=https://miro.medium.com/max/690/1*X_Q55Ab2FUv6sF7XqAE0tw.png width=500>\n",
    "\n",
    "## Bibliografia\n",
    "- [Exemplo de PCA aplicado em reconhecimento facial](https://www.ritchieng.com/machine-learning-dimensionality-reduction-feature-transform/)\n",
    "- [Outros métodos de extração de features: ICA, LDA, LLE, t-SNE e AE](https://towardsdatascience.com/feature-extraction-techniques-d619b56e31be)\n",
    "- [Exemplo no dataset Fashion MNIST](https://www.kaggle.com/code/residentmario/dimensionality-reduction-and-pca-for-fashion-mnist/notebook)\n",
    "- [Visualização do MNIST](https://data-science-blog.com/blog/2020/11/23/pca-and-lda/)\n",
    "- [MCA: o PCA das variáveis categóricas](https://pypi.org/project/mca/)\n",
    "- [Non linear PCA](https://scholarlypublications.universiteitleiden.nl/handle/1887/12386)\n"
   ]
  },
  {
   "cell_type": "markdown",
   "metadata": {},
   "source": [
    "# Aprofundamento\n",
    "\n",
    "## 3) A matemática do PCA\n",
    "\n",
    "(Adaptado do notebook do Walisson!)\n",
    "\n",
    "__________\n",
    "\n",
    "Considere a matriz de features $X_{N \\times n}$\n",
    "\n",
    "> $N$ linhas (observações), cada uma caracterizada por $n$ features no espaço original.\n",
    "\n",
    "Cada observação $i$ é caracterizada pelo vetor de features $\\vec{x}_i = (x_{i1}, x_{i2}, \\cdots, x_{in}$), que são as linhas da matriz de features:\n",
    "\n",
    "$$\n",
    "  X = \\left [ \\begin{array}{ccccc}\n",
    "x_{11} & x_{12} & x_{13} & \\cdots & x_{1n}\\\\ \n",
    "x_{21} & x_{22} & x_{23} & \\cdots & x_{2n}\\\\ \n",
    "\\vdots & \\vdots & \\vdots & \\cdots & \\vdots  \\\\\n",
    "x_{N1} & x_{N2} & x_{N3} & \\cdots & x_{Nn}\\\\ \n",
    "   \\end{array} \\right ] \n",
    "$$"
   ]
  },
  {
   "cell_type": "markdown",
   "metadata": {},
   "source": [
    "### Passo 1 - standardização\n",
    "\n",
    "Para dados em que as features originais $x_j$ estão em escalas diferentes, é necessário escalar os dados para que eles tenham média 0 e desvio padrão 1 (ou seja, usamos o `StandardScaler`). \n",
    "\n",
    "Isso porque os componentes são influenciados pela escala das variáveis, justamente porque as matrizes de covariâncias, $\\Sigma$ ou $\\hat{\\Sigma} = S$, são sensíveis à escala de um par de variáveis. \n",
    "\n",
    "Considere:\n",
    "\n",
    "- $\\bar{x}_j$ a média da variável $x_j$; \n",
    "- $s(x_j)$ o desvio padrão de $x_j$; \n",
    "\n",
    "Sendo $i = 1, 2,3,4,\\cdots, N$ e $j = 1, 2,3,4,\\cdots, n$.\n",
    "\n",
    "Com isso, a padronização pode ser realizada por meio da equação abaixo: \n",
    "\n",
    "- Média 0 e desvio padrão 1: \n",
    "\n",
    "$$ \\tilde{x}_{ij}= \\frac{x_{ij}-\\bar{x_j}}{s(X_j)} $$ \n",
    "\n",
    "<br>"
   ]
  },
  {
   "cell_type": "markdown",
   "metadata": {},
   "source": [
    "### Passo 2 - cálculo da matriz de covariância\n",
    "\n",
    "Calcular a matriz de **covariância**/**correlação**, que são dadas por:\n",
    "\n",
    "$$\n",
    "  S = \\left [ \\begin{array}{ccccc}\n",
    "\\hat{Var}(x_1) & \\hat{Cov}(x_1x_2) & \\hat{Cov}(x_1x_3) & \\cdots & \\hat{Cov}(x_1x_n)\\\\ \n",
    "\\hat{Cov}(x_2x_1) &\\hat{Var}(x_2)& \\hat{Cov}(x_2x_3) & \\cdots & \\hat{Cov}(x_2x_n)\\\\ \n",
    "\\vdots & \\vdots & \\vdots & \\cdots & \\vdots  \\\\\n",
    "\\hat{Cov}(x_nx_1) & \\hat{Cov}(x_nx_2)  & \\hat{Cov}(x_nx_3)  & \\cdots & \\hat{Var}(x_n)\\\\ \n",
    "   \\end{array} \\right ] \n",
    "$$\n",
    "\n",
    "<br>\n",
    "<br>\n",
    "\n",
    "$$\n",
    "  R = \\left [ \\begin{array}{ccccc}\n",
    "1 & r(x_1x_2) & r(x_1x_3) & \\cdots & r(x_1x_n)\\\\ \n",
    "r(x_2x_1) & 1 & r(x_2x_3) & \\cdots & r(x_2x_n)\\\\ \n",
    "\\vdots & \\vdots & \\vdots & \\cdots & \\vdots  \\\\\n",
    "r(x_nx_1) & r(x_nx_2)  & r(x_nx_3)  & \\cdots & 1\\\\ \n",
    "   \\end{array} \\right ] \n",
    "$$\n",
    "\n",
    "Em que:\n",
    "\n",
    "$$\n",
    " \\begin{array}{ccc}\n",
    "\\hat{Var}(x_j) = \\frac{\\sum_{i=1}^{N}(x_{ij}-\\bar{x}_j)}{N-1}, & \n",
    "\\hat{Cov}(x_{j1},x_{j2}) = \\frac{\\sum_{i=1}^N(x_{ij1}-\\bar{x_{j1}})(x_{ij2}-\\bar{x_{j2}})}{N-1}, &\n",
    "r(x_{j1},x_{j2}) = \\frac{\\hat{Cov}(x_{j1},x_{j2})}{S_{xj1}S_{xj2}}\n",
    "   \\end{array} \n",
    "$$\n",
    "\n",
    "<br>"
   ]
  },
  {
   "cell_type": "markdown",
   "metadata": {},
   "source": [
    "### Passo 3 - determinação de autovalores e autovetores\n",
    "\n",
    "As componentes principais são determinadas através da equação característica (equação de autovalores) da matriz S ou R:\n",
    "\n",
    "$$det[R - \\lambda I]= 0 $$\n",
    "\n",
    "Em que $I$ é a matriz identidade de dimensão $n \\times n $. \n",
    "\n",
    "Se R ou S tem posto completo igual a $n$, então $det[R - \\lambda I]= 0$, que pode ser reescrito como $\\mid R - \\lambda I \\mid = 0$, terá $n$ soluções. Lembrando que ter posto completo significa que nenhuma coluna é combinação linear de outra.\n",
    "\n",
    "Considere que $\\lambda_1,\\lambda_2,\\lambda_3, \\cdots, \\lambda_n$ sejam as raízes da equação característica de R ou S, então temos que  $\\lambda_1 > \\lambda_2 > \\lambda_3 > \\cdots, \\lambda_n$. \n",
    "\n",
    "Chamamos $\\lambda_i$ de **autovalores**. \n",
    "\n",
    "Além disso, para cada autovalor há um **autovetor** $\\tilde{a}_i$ associado, $\n",
    "  \\tilde{a}_i = \\left [ \\begin{array}{c}\n",
    "a_{i1}\\\\ \n",
    "a_{i2}\\\\ \n",
    "\\vdots \\\\\n",
    "a_{ip} \\\\ \n",
    "   \\end{array} \\right ] \n",
    "$\n",
    "\n",
    "O cálculo do autovetor $\\tilde{a}_i$, pode ser realizado considerando a seguinte propriedade:\n",
    "\n",
    "$$ R\\tilde{a}_i =  \\lambda_i \\tilde{a}_i $$\n",
    "\n",
    "O autovetor deve ser normalizado, isso é,\n",
    "\n",
    "$$ a_i = \\frac{\\tilde{a}_i }{\\mid \\tilde{a}_i  \\mid}$$\n",
    "\n",
    "Desta maneira, as componentes do vetor são tais que sua norma L2 é igual a 1.\n",
    "\n",
    "<br>"
   ]
  },
  {
   "cell_type": "markdown",
   "metadata": {},
   "source": [
    "### Passo 4 - cálculo das componentes principais\n",
    "\n",
    "O cálculo da i-ésima componente principal é dado por:\n",
    "\n",
    "$$PC_i = a_{i1}x_1 + a_{i2}x_2 + a_{i3}x_3 + \\cdots + a_{in}x_n $$\n",
    "\n",
    "em que $a_{i1}$ são as componetes do autovetor $a_i$ associado ao autovalor $\\lambda_i$."
   ]
  },
  {
   "cell_type": "markdown",
   "metadata": {},
   "source": [
    "__________\n",
    "\n",
    "Operacionalmente, o PCA se apoia em um procedimento matemático denominado **Singular Value Decomposition (SVD)**, que é uma forma de decompor qualquer matriz não quadrada $M_{m\\times n}$,\n",
    "\n",
    "$$M_{m\\times n} = U_{m \\times m}\\Sigma_{m \\times n}V_{n \\times n}^{\\dagger}$$\n",
    "\n",
    "- onde $U$ é uma matriz unitária $m\\times m$ real ou complexa;\n",
    "\n",
    "- $\\Sigma$ é uma matriz retangular diagonal $m\\times n$ com números reais não-negativos na diagonal;\n",
    "\n",
    "- e $V^{\\dagger}$ (a conjugada transposta de $V$) é uma matriz unitária $n\\times n$ real ou complexa. \n",
    "\n",
    "Os valores de $\\Sigma$ são os chamados valores singulares de $M$. As $m$ colunas de $U$ e as $n$ colunas de $V$ são os chamados vetores singulares à esquerda e vetores singulares à direita de $A$, respetivamente.\n",
    "\n",
    "<img src=https://upload.wikimedia.org/wikipedia/commons/thumb/c/c8/Singular_value_decomposition_visualisation.svg/800px-Singular_value_decomposition_visualisation.svg.png width=300>"
   ]
  },
  {
   "cell_type": "markdown",
   "metadata": {},
   "source": [
    "## Outros métodos\n",
    "\n",
    "### [LDA (Linear Discriminant Analysis)](http://scikit-learn.org/0.16/modules/generated/sklearn.lda.LDA.html)\n",
    "\n",
    "<img src=https://i.stack.imgur.com/Tz5mA.png width=500>"
   ]
  },
  {
   "cell_type": "markdown",
   "metadata": {},
   "source": [
    "[Prince](https://github.com/MaxHalford/prince) é um pacote do python que tem métodos implementados para lidar com vários tipos de bases:\n",
    "\n",
    "<img src=http://www.sthda.com/english/sthda-upload/images/principal-component-methods/multivariate-analysis-factoextra.png text=\"http://www.sthda.com/english/articles/31-principal-component-methods-in-r-practical-guide/\">"
   ]
  },
  {
   "cell_type": "markdown",
   "metadata": {},
   "source": [
    "# Exercício\n",
    "Aplique o PCA nos dados do projeto e verifique se houve melhora na predição do modelo.\n",
    "\n",
    "# Tarefa\n",
    "Com os dados do breast_cancer, encontre um bom valor para a quantidade de componentes principais e treine um modelo com pipeline."
   ]
  },
  {
   "cell_type": "code",
   "execution_count": null,
   "metadata": {
    "ExecuteTime": {
     "end_time": "2022-03-09T23:04:22.004286Z",
     "start_time": "2022-03-09T23:04:21.949319Z"
    }
   },
   "outputs": [],
   "source": [
    "df_bc = pd.read_csv(\"../datasets/breast_cancer.csv\")\n",
    "\n",
    "X = df_bc.drop(columns=[\"id\", \"diagnosis\"])\n",
    "y = df_bc[\"diagnosis\"]\n",
    "\n",
    "X_train, X_test, y_train, y_test = train_test_split(X, y, test_size=0.2, \n",
    "                                                    random_state=42, stratify=y)"
   ]
  }
 ],
 "metadata": {
  "kernelspec": {
   "display_name": "Python 3.9.12 ('aula_venv': venv)",
   "language": "python",
   "name": "python3"
  },
  "language_info": {
   "codemirror_mode": {
    "name": "ipython",
    "version": 3
   },
   "file_extension": ".py",
   "mimetype": "text/x-python",
   "name": "python",
   "nbconvert_exporter": "python",
   "pygments_lexer": "ipython3",
   "version": "3.9.12"
  },
  "vscode": {
   "interpreter": {
    "hash": "cb5f626699f206ef97176a4f092b8d9f6e52ae1f84b4bb3163daf9eb25ca3519"
   }
  }
 },
 "nbformat": 4,
 "nbformat_minor": 4
}
